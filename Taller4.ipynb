{
 "cells": [
  {
   "attachments": {},
   "cell_type": "markdown",
   "metadata": {},
   "source": [
    "# Taller 4\n",
    "\n",
    "<center>\n",
    "\n",
    "|     Nombres      |      Apellidos       |     Login     |  Codigo   |\n",
    "| :--------------: | :------------------: | :-----------: | :-------: |\n",
    "|     Santiago     | Gonzalez Montealegre | s.gonzalez35  | 202012274 |\n",
    "| Juliana Carolina |  Cardenas Barragan   | jc.cardenasb1 | 202011683 |\n",
    "\n",
    "</center>\n",
    "\n",
    "<br>\n",
    "\n",
    "---\n",
    "\n",
    "<br>\n",
    "\n",
    "---"
   ]
  },
  {
   "attachments": {},
   "cell_type": "markdown",
   "metadata": {},
   "source": [
    "## 2. Generando Datos y Estimando Parámteros"
   ]
  },
  {
   "attachments": {},
   "cell_type": "markdown",
   "metadata": {},
   "source": [
    "Recordemos el modelo de la alarma antirrobo\n",
    "<center>\n",
    "<img src=\"image/4_Red.png\" width=\"400\" height=\"350\" />\n",
    "</center>"
   ]
  },
  {
   "attachments": {},
   "cell_type": "markdown",
   "metadata": {},
   "source": [
    "Las probabilidades son\n",
    "\n",
    "- **Robo**: \n",
    "\n",
    "<center>\n",
    "\n",
    "|  R  | P(R) |\n",
    "| :-: | :--: |\n",
    "|  V  | 0.01 |\n",
    "|  F  | 0.99 |\n",
    "\n",
    "</center>\n",
    "\n",
    "- **Sismo**: \n",
    "\n",
    "<center>\n",
    "\n",
    "|  S  | P(S) |\n",
    "| :-: | :--: |\n",
    "|  V  | 0.02 |\n",
    "|  F  | 0.98 |\n",
    "\n",
    "</center>\n",
    "\n",
    "- **Alarma**:\n",
    "<center>\n",
    "\n",
    "| P ( A &#124; R , S) |   R   |   V   |   V   |   F   |   F   |\n",
    "| :-----------------: | :---: | :---: | :---: | :---: | :---: |\n",
    "|        **A**        | **S** | **V** | **F** | **V** | **F** |\n",
    "|          V          |       | 0.95  | 0.94  | 0.29  | 0.001 |\n",
    "|          F          |       | 0.05  | 0.06  | 0.71  | 0.999 |\n",
    "\n",
    "</center>\n",
    "\n",
    "- **Juan**:\n",
    "\n",
    "<center>\n",
    "\n",
    "| P( J &#124; A ) |  A  |  A   |\n",
    "| :-------------: | :-: | :--: |\n",
    "|      **J**      |  V  |  F   |\n",
    "|        V        | 0.9 | 0.05 |\n",
    "|        F        | 0.1 | 0.95 |\n",
    "\n",
    "</center>\n",
    "\n",
    "<br>\n",
    "\n",
    "- **Maria**:\n",
    "\n",
    "<center>\n",
    "\n",
    "| P( M &#124; A ) |  A  |  A   |\n",
    "| :-------------: | :-: | :--: |\n",
    "|      **M**      |  V  |  F   |\n",
    "|        V        | 0.7 | 0.01 |\n",
    "|        F        | 0.3 | 0.99 |\n",
    "\n",
    "</center>"
   ]
  },
  {
   "cell_type": "code",
   "execution_count": 1,
   "metadata": {},
   "outputs": [
    {
     "data": {
      "text/plain": [
       "True"
      ]
     },
     "execution_count": 1,
     "metadata": {},
     "output_type": "execute_result"
    }
   ],
   "source": [
    "from pgmpy.models import BayesianNetwork\n",
    "from pgmpy.factors.discrete import TabularCPD\n",
    "\n",
    "# Estructura de la red incluyendo los arcos y nodos\n",
    "model = BayesianNetwork([(\"R\",\"A\"),(\"S\",\"A\"),(\"A\",\"J\"),(\"A\",\"M\")])\n",
    "\n",
    "# CPD: Conditional Probability Distribution\n",
    "# CPD de R \n",
    "cpd_r = TabularCPD(\n",
    "    variable=\"R\",\n",
    "    variable_card=2,\n",
    "    values=[\n",
    "        [0.01], \n",
    "        [0.99]])\n",
    "\n",
    "# CPD de S\n",
    "cpd_s = TabularCPD(\n",
    "    variable=\"S\",\n",
    "    variable_card=2,\n",
    "    values=[\n",
    "        [0.02], \n",
    "        [0.98]])\n",
    "\n",
    "# CPD de A\n",
    "cpd_a = TabularCPD(\n",
    "    variable=\"A\",\n",
    "    variable_card=2,\n",
    "    values=[\n",
    "        [0.95, 0.94, 0.29, 0.001],\n",
    "        [0.05, 0.06, 0.71, 0.999],\n",
    "    ],\n",
    "    evidence=[\"R\", \"S\"],\n",
    "    evidence_card=[2, 2])\n",
    "\n",
    "# CPD de J\n",
    "cpd_j = TabularCPD(\n",
    "    variable=\"J\",\n",
    "    variable_card=2,\n",
    "    values=[\n",
    "        [0.9, 0.05],\n",
    "        [0.1, 0.95],\n",
    "    ],\n",
    "    evidence=[\"A\"],\n",
    "    evidence_card=[2])\n",
    "\n",
    "# CPD de M\n",
    "cpd_m = TabularCPD(\n",
    "    variable=\"M\",\n",
    "    variable_card=2,\n",
    "    values=[\n",
    "        [0.7, 0.01],\n",
    "        [0.3, 0.99],\n",
    "    ],\n",
    "    evidence=[\"A\"],\n",
    "    evidence_card=[2])\n",
    "\n",
    "# Associate the CPD's to the model\n",
    "model.add_cpds(cpd_r, cpd_s, cpd_a, cpd_j, cpd_m)\n",
    "\n",
    "#Revise que su modelo este completo\n",
    "model.check_model()"
   ]
  },
  {
   "attachments": {},
   "cell_type": "markdown",
   "metadata": {},
   "source": [
    "### 2\n",
    "Usando este modelo, use el módulo de muestreo de pgmpy para generar 100,000\n",
    "núumeros aleatorios de acuerdo con la distribución definida por el grafo."
   ]
  },
  {
   "cell_type": "code",
   "execution_count": 2,
   "metadata": {},
   "outputs": [
    {
     "data": {
      "application/vnd.jupyter.widget-view+json": {
       "model_id": "ab487aae9a104097978d4ed0f4025efe",
       "version_major": 2,
       "version_minor": 0
      },
      "text/plain": [
       "  0%|          | 0/5 [00:00<?, ?it/s]"
      ]
     },
     "metadata": {},
     "output_type": "display_data"
    },
    {
     "data": {
      "text/html": [
       "<div>\n",
       "<style scoped>\n",
       "    .dataframe tbody tr th:only-of-type {\n",
       "        vertical-align: middle;\n",
       "    }\n",
       "\n",
       "    .dataframe tbody tr th {\n",
       "        vertical-align: top;\n",
       "    }\n",
       "\n",
       "    .dataframe thead th {\n",
       "        text-align: right;\n",
       "    }\n",
       "</style>\n",
       "<table border=\"1\" class=\"dataframe\">\n",
       "  <thead>\n",
       "    <tr style=\"text-align: right;\">\n",
       "      <th></th>\n",
       "      <th>R</th>\n",
       "      <th>A</th>\n",
       "      <th>S</th>\n",
       "      <th>J</th>\n",
       "      <th>M</th>\n",
       "    </tr>\n",
       "  </thead>\n",
       "  <tbody>\n",
       "    <tr>\n",
       "      <th>0</th>\n",
       "      <td>1</td>\n",
       "      <td>1</td>\n",
       "      <td>1</td>\n",
       "      <td>1</td>\n",
       "      <td>1</td>\n",
       "    </tr>\n",
       "    <tr>\n",
       "      <th>1</th>\n",
       "      <td>1</td>\n",
       "      <td>1</td>\n",
       "      <td>1</td>\n",
       "      <td>1</td>\n",
       "      <td>1</td>\n",
       "    </tr>\n",
       "    <tr>\n",
       "      <th>2</th>\n",
       "      <td>1</td>\n",
       "      <td>1</td>\n",
       "      <td>1</td>\n",
       "      <td>1</td>\n",
       "      <td>1</td>\n",
       "    </tr>\n",
       "    <tr>\n",
       "      <th>3</th>\n",
       "      <td>1</td>\n",
       "      <td>1</td>\n",
       "      <td>1</td>\n",
       "      <td>1</td>\n",
       "      <td>1</td>\n",
       "    </tr>\n",
       "    <tr>\n",
       "      <th>4</th>\n",
       "      <td>1</td>\n",
       "      <td>1</td>\n",
       "      <td>1</td>\n",
       "      <td>1</td>\n",
       "      <td>1</td>\n",
       "    </tr>\n",
       "  </tbody>\n",
       "</table>\n",
       "</div>"
      ],
      "text/plain": [
       "   R  A  S  J  M\n",
       "0  1  1  1  1  1\n",
       "1  1  1  1  1  1\n",
       "2  1  1  1  1  1\n",
       "3  1  1  1  1  1\n",
       "4  1  1  1  1  1"
      ]
     },
     "execution_count": 2,
     "metadata": {},
     "output_type": "execute_result"
    }
   ],
   "source": [
    "from pgmpy.sampling import BayesianModelSampling\n",
    "samples = BayesianModelSampling(model).forward_sample(size=100000)\n",
    "samples.head()"
   ]
  },
  {
   "attachments": {},
   "cell_type": "markdown",
   "metadata": {},
   "source": [
    "### 3\n",
    "\n",
    "Cree un nuevo modelo con la misma estructura del inicial, pero sin parámetros."
   ]
  },
  {
   "cell_type": "code",
   "execution_count": 3,
   "metadata": {},
   "outputs": [],
   "source": [
    "from pgmpy.models import BayesianNetwork\n",
    "\n",
    "# Estructura de la red incluyendo los arcos y nodos\n",
    "mod_fit_mv = BayesianNetwork([(\"R\",\"A\"),(\"S\",\"A\"),(\"A\",\"J\"),(\"A\",\"M\")])"
   ]
  },
  {
   "attachments": {},
   "cell_type": "markdown",
   "metadata": {},
   "source": [
    "### 4\n",
    "\n",
    "Emplee el módulo de ajuste de pgmpy para ajustar algunas CPDs del nuevo modelo."
   ]
  },
  {
   "cell_type": "code",
   "execution_count": 4,
   "metadata": {},
   "outputs": [
    {
     "name": "stdout",
     "output_type": "stream",
     "text": [
      "+------+---------+\n",
      "| R(0) | 0.01005 |\n",
      "+------+---------+\n",
      "| R(1) | 0.98995 |\n",
      "+------+---------+\n",
      "+------+---------+\n",
      "| S(0) | 0.02009 |\n",
      "+------+---------+\n",
      "| S(1) | 0.97991 |\n",
      "+------+---------+\n",
      "+------+--------+-----+-----------------------+\n",
      "| R    | R(0)   | ... | R(1)                  |\n",
      "+------+--------+-----+-----------------------+\n",
      "| S    | S(0)   | ... | S(1)                  |\n",
      "+------+--------+-----+-----------------------+\n",
      "| A(0) | 0.9375 | ... | 0.0008762705923589204 |\n",
      "+------+--------+-----+-----------------------+\n",
      "| A(1) | 0.0625 | ... | 0.999123729407641     |\n",
      "+------+--------+-----+-----------------------+\n"
     ]
    }
   ],
   "source": [
    "from pgmpy.estimators import MaximumLikelihoodEstimator\n",
    "\n",
    "# Create the model to adjust the CPD's\n",
    "emv = MaximumLikelihoodEstimator(model=mod_fit_mv, data=samples)\n",
    "\n",
    "# CPD de R \n",
    "cpdem_r = emv.estimate_cpd(node='R')\n",
    "print(cpdem_r)\n",
    "# CPD de S\n",
    "cpdem_s = emv.estimate_cpd(node='S')\n",
    "print(cpdem_s)\n",
    "# CPD de A\n",
    "cpdem_a = emv.estimate_cpd(node='A')\n",
    "print(cpdem_a)"
   ]
  },
  {
   "attachments": {},
   "cell_type": "markdown",
   "metadata": {},
   "source": [
    "### 5\n",
    "\n",
    "Emplee el método fit para ajustar todas las CPDs al tiempo y explore el resultado."
   ]
  },
  {
   "cell_type": "code",
   "execution_count": 5,
   "metadata": {},
   "outputs": [
    {
     "name": "stdout",
     "output_type": "stream",
     "text": [
      "R\n",
      "+------+---------+\n",
      "| R(0) | 0.01005 |\n",
      "+------+---------+\n",
      "| R(1) | 0.98995 |\n",
      "+------+---------+\n",
      "A\n",
      "+------+--------+-----+-----------------------+\n",
      "| R    | R(0)   | ... | R(1)                  |\n",
      "+------+--------+-----+-----------------------+\n",
      "| S    | S(0)   | ... | S(1)                  |\n",
      "+------+--------+-----+-----------------------+\n",
      "| A(0) | 0.9375 | ... | 0.0008762705923589204 |\n",
      "+------+--------+-----+-----------------------+\n",
      "| A(1) | 0.0625 | ... | 0.999123729407641     |\n",
      "+------+--------+-----+-----------------------+\n",
      "S\n",
      "+------+---------+\n",
      "| S(0) | 0.02009 |\n",
      "+------+---------+\n",
      "| S(1) | 0.97991 |\n",
      "+------+---------+\n",
      "J\n",
      "+------+---------------------+----------------------+\n",
      "| A    | A(0)                | A(1)                 |\n",
      "+------+---------------------+----------------------+\n",
      "| J(0) | 0.9023929471032746  | 0.050349550867780354 |\n",
      "+------+---------------------+----------------------+\n",
      "| J(1) | 0.09760705289672544 | 0.9496504491322196   |\n",
      "+------+---------------------+----------------------+\n",
      "M\n",
      "+------+---------------------+----------------------+\n",
      "| A    | A(0)                | A(1)                 |\n",
      "+------+---------------------+----------------------+\n",
      "| M(0) | 0.7015113350125944  | 0.009927651099459416 |\n",
      "+------+---------------------+----------------------+\n",
      "| M(1) | 0.29848866498740556 | 0.9900723489005406   |\n",
      "+------+---------------------+----------------------+\n"
     ]
    }
   ],
   "source": [
    "# Adjust the CPD's of all variables to the Data\n",
    "mod_fit_mv.fit(\n",
    "    data=samples,\n",
    "    estimator=MaximumLikelihoodEstimator\n",
    ")\n",
    "\n",
    "for i in mod_fit_mv.nodes():\n",
    "    print(i)\n",
    "    print(mod_fit_mv.get_cpds(i))"
   ]
  },
  {
   "attachments": {},
   "cell_type": "markdown",
   "metadata": {},
   "source": [
    "### 6\n",
    "\n",
    "Defina ahora un estimador Bayesiano en pgmpy."
   ]
  },
  {
   "cell_type": "code",
   "execution_count": 6,
   "metadata": {},
   "outputs": [],
   "source": [
    "from pgmpy.estimators import BayesianEstimator\n",
    "\n",
    "eby = BayesianEstimator(model=mod_fit_mv, data=samples)"
   ]
  },
  {
   "attachments": {},
   "cell_type": "markdown",
   "metadata": {},
   "source": [
    "### 7\n",
    "\n",
    "Realice nuevamente la estimación del modelo usando un prior."
   ]
  },
  {
   "cell_type": "code",
   "execution_count": 7,
   "metadata": {},
   "outputs": [
    {
     "name": "stdout",
     "output_type": "stream",
     "text": [
      "+------+----------+\n",
      "| R(0) | 0.252512 |\n",
      "+------+----------+\n",
      "| R(1) | 0.747487 |\n",
      "+------+----------+\n"
     ]
    }
   ],
   "source": [
    "cpdby_r = eby.estimate_cpd(node='R', \n",
    "                           prior_type='dirichlet',\n",
    "                           pseudo_counts=[[100000], [200000]])\n",
    "print(cpdby_r)"
   ]
  },
  {
   "attachments": {},
   "cell_type": "markdown",
   "metadata": {},
   "source": [
    "Modifique los valores de pseudocounts e interprete los resultados. Incluya sus resultados y observaciones en su reporte."
   ]
  },
  {
   "cell_type": "code",
   "execution_count": 32,
   "metadata": {},
   "outputs": [
    {
     "data": {
      "text/html": [
       "<div>\n",
       "<style scoped>\n",
       "    .dataframe tbody tr th:only-of-type {\n",
       "        vertical-align: middle;\n",
       "    }\n",
       "\n",
       "    .dataframe tbody tr th {\n",
       "        vertical-align: top;\n",
       "    }\n",
       "\n",
       "    .dataframe thead th {\n",
       "        text-align: right;\n",
       "    }\n",
       "</style>\n",
       "<table border=\"1\" class=\"dataframe\">\n",
       "  <thead>\n",
       "    <tr style=\"text-align: right;\">\n",
       "      <th></th>\n",
       "      <th>index</th>\n",
       "      <th>alpha_0</th>\n",
       "      <th>alpha_1</th>\n",
       "      <th>R_0</th>\n",
       "      <th>R_1</th>\n",
       "    </tr>\n",
       "  </thead>\n",
       "  <tbody>\n",
       "    <tr>\n",
       "      <th>0</th>\n",
       "      <td>0</td>\n",
       "      <td>0.0</td>\n",
       "      <td>300000.0</td>\n",
       "      <td>0.002512</td>\n",
       "      <td>0.997487</td>\n",
       "    </tr>\n",
       "    <tr>\n",
       "      <th>1</th>\n",
       "      <td>0</td>\n",
       "      <td>200.0</td>\n",
       "      <td>299800.0</td>\n",
       "      <td>0.003012</td>\n",
       "      <td>0.996988</td>\n",
       "    </tr>\n",
       "    <tr>\n",
       "      <th>2</th>\n",
       "      <td>0</td>\n",
       "      <td>400.0</td>\n",
       "      <td>299600.0</td>\n",
       "      <td>0.003512</td>\n",
       "      <td>0.996487</td>\n",
       "    </tr>\n",
       "    <tr>\n",
       "      <th>3</th>\n",
       "      <td>0</td>\n",
       "      <td>600.0</td>\n",
       "      <td>299400.0</td>\n",
       "      <td>0.004012</td>\n",
       "      <td>0.995988</td>\n",
       "    </tr>\n",
       "    <tr>\n",
       "      <th>4</th>\n",
       "      <td>0</td>\n",
       "      <td>800.0</td>\n",
       "      <td>299200.0</td>\n",
       "      <td>0.004513</td>\n",
       "      <td>0.995487</td>\n",
       "    </tr>\n",
       "    <tr>\n",
       "      <th>...</th>\n",
       "      <td>...</td>\n",
       "      <td>...</td>\n",
       "      <td>...</td>\n",
       "      <td>...</td>\n",
       "      <td>...</td>\n",
       "    </tr>\n",
       "    <tr>\n",
       "      <th>1496</th>\n",
       "      <td>0</td>\n",
       "      <td>299200.0</td>\n",
       "      <td>800.0</td>\n",
       "      <td>0.750513</td>\n",
       "      <td>0.249488</td>\n",
       "    </tr>\n",
       "    <tr>\n",
       "      <th>1497</th>\n",
       "      <td>0</td>\n",
       "      <td>299400.0</td>\n",
       "      <td>600.0</td>\n",
       "      <td>0.751012</td>\n",
       "      <td>0.248988</td>\n",
       "    </tr>\n",
       "    <tr>\n",
       "      <th>1498</th>\n",
       "      <td>0</td>\n",
       "      <td>299600.0</td>\n",
       "      <td>400.0</td>\n",
       "      <td>0.751513</td>\n",
       "      <td>0.248488</td>\n",
       "    </tr>\n",
       "    <tr>\n",
       "      <th>1499</th>\n",
       "      <td>0</td>\n",
       "      <td>299800.0</td>\n",
       "      <td>200.0</td>\n",
       "      <td>0.752012</td>\n",
       "      <td>0.247987</td>\n",
       "    </tr>\n",
       "    <tr>\n",
       "      <th>1500</th>\n",
       "      <td>0</td>\n",
       "      <td>300000.0</td>\n",
       "      <td>0.0</td>\n",
       "      <td>0.752513</td>\n",
       "      <td>0.247487</td>\n",
       "    </tr>\n",
       "  </tbody>\n",
       "</table>\n",
       "<p>1501 rows × 5 columns</p>\n",
       "</div>"
      ],
      "text/plain": [
       "      index   alpha_0   alpha_1       R_0       R_1\n",
       "0         0       0.0  300000.0  0.002512  0.997487\n",
       "1         0     200.0  299800.0  0.003012  0.996988\n",
       "2         0     400.0  299600.0  0.003512  0.996487\n",
       "3         0     600.0  299400.0  0.004012  0.995988\n",
       "4         0     800.0  299200.0  0.004513  0.995487\n",
       "...     ...       ...       ...       ...       ...\n",
       "1496      0  299200.0     800.0  0.750513  0.249488\n",
       "1497      0  299400.0     600.0  0.751012  0.248988\n",
       "1498      0  299600.0     400.0  0.751513  0.248488\n",
       "1499      0  299800.0     200.0  0.752012  0.247987\n",
       "1500      0  300000.0       0.0  0.752513  0.247487\n",
       "\n",
       "[1501 rows x 5 columns]"
      ]
     },
     "execution_count": 32,
     "metadata": {},
     "output_type": "execute_result"
    }
   ],
   "source": [
    "import pandas as pd\n",
    "\n",
    "df = pd.DataFrame({\"alpha_0\": [], \"alpha_1\": [], \"R_0\": [], \"R_1\": []})\n",
    "\n",
    "alpha = 300000\n",
    "for i in range(0, alpha+1, 200):\n",
    "    alpha_0 = i\n",
    "    alpha_1 = alpha-alpha_0\n",
    "    \n",
    "    cpdby_r = eby.estimate_cpd(node='R', \n",
    "                            prior_type='dirichlet',\n",
    "                            pseudo_counts=[[alpha_0], [alpha_1]])\n",
    "    datos = cpdby_r.get_values()\n",
    "    row = pd.DataFrame({\"alpha_0\": alpha_0, \"alpha_1\": alpha_1, \n",
    "                        \"R_0\": datos[0], \"R_1\": datos[1]})\n",
    "    df = pd.concat([df, row])    \n",
    "    \n",
    "df.reset_index()"
   ]
  },
  {
   "cell_type": "code",
   "execution_count": 38,
   "metadata": {},
   "outputs": [
    {
     "data": {
      "image/png": "[encoded data removed]",
      "text/plain": [
       "<Figure size 432x288 with 1 Axes>"
      ]
     },
     "metadata": {
      "needs_background": "light"
     },
     "output_type": "display_data"
    },
    {
     "data": {
      "image/png": "[encoded data removed]",
      "text/plain": [
       "<Figure size 432x288 with 1 Axes>"
      ]
     },
     "metadata": {
      "needs_background": "light"
     },
     "output_type": "display_data"
    },
    {
     "data": {
      "image/png": "[encoded data removed]",
      "text/plain": [
       "<Figure size 432x288 with 1 Axes>"
      ]
     },
     "metadata": {
      "needs_background": "light"
     },
     "output_type": "display_data"
    },
    {
     "data": {
      "image/png": "[encoded data removed]",
      "text/plain": [
       "<Figure size 432x288 with 1 Axes>"
      ]
     },
     "metadata": {
      "needs_background": "light"
     },
     "output_type": "display_data"
    }
   ],
   "source": [
    "import matplotlib.pyplot as plt\n",
    "\n",
    "fig = plt.figure()\n",
    "ax = fig.add_axes([0, 0, 1, 1])\n",
    "ax.plot(df.alpha_0, df.R_0)\n",
    "plt.setp(ax, ylim=(0, 1), xlim=(0, 300000))\n",
    "ax.set_xlabel(\"alpha_0\")\n",
    "ax.set_ylabel(\"R_0\")\n",
    "ax.set_title(\"Análisis de Sensibilidad\\nAlpha 0 VS R 0\")\n",
    "plt.show()\n",
    "\n",
    "fig = plt.figure()\n",
    "ax = fig.add_axes([0, 0, 1, 1])\n",
    "ax.plot(df.alpha_0, df.R_1)\n",
    "plt.setp(ax, ylim=(0, 1), xlim=(0, 300000))\n",
    "ax.set_xlabel(\"alpha_0\")\n",
    "ax.set_ylabel(\"R_1\")\n",
    "ax.set_title(\"Análisis de Sensibilidad\\nAlpha 0 VS R 1\")\n",
    "plt.show()\n",
    "\n",
    "fig = plt.figure()\n",
    "ax = fig.add_axes([0, 0, 1, 1])\n",
    "ax.plot(df.alpha_1, df.R_1)\n",
    "plt.setp(ax, ylim=(0, 1), xlim=(0, 300000))\n",
    "ax.set_xlabel(\"alpha_1\")\n",
    "ax.set_ylabel(\"R_1\")\n",
    "ax.set_title(\"Análisis de Sensibilidad\\nAlpha 1 VS R 1\")\n",
    "plt.show()\n",
    "\n",
    "fig = plt.figure()\n",
    "ax = fig.add_axes([0, 0, 1, 1])\n",
    "ax.plot(df.alpha_1, df.R_0)\n",
    "plt.setp(ax, ylim=(0, 1), xlim=(0, 300000))\n",
    "ax.set_xlabel(\"alpha_1\")\n",
    "ax.set_ylabel(\"R_0\")\n",
    "ax.set_title(\"Análisis de Sensibilidad\\nAlpha 1 VS R 0\")\n",
    "plt.show()"
   ]
  },
  {
   "attachments": {},
   "cell_type": "markdown",
   "metadata": {},
   "source": [
    "## Ahora con otra Red y otros Datos"
   ]
  },
  {
   "attachments": {},
   "cell_type": "markdown",
   "metadata": {},
   "source": [
    "Realice el proceso de estimación de la red en la gráfica, empleando los datos del archivo adjunto. Estudie los parámetros obtenidos en su reporte."
   ]
  },
  {
   "cell_type": "code",
   "execution_count": 10,
   "metadata": {},
   "outputs": [],
   "source": [
    "# Create the model with the graph\n",
    "model = BayesianNetwork(\n",
    "    [(\"asia\", \"tub\"), \n",
    "     (\"tub\", \"either\"),\n",
    "     (\"smoke\", \"lung\"),\n",
    "     (\"lung\", \"either\"),\n",
    "     (\"smoke\", \"bronc\"),\n",
    "     (\"either\", \"xray\"),\n",
    "     (\"either\", \"dysp\"),\n",
    "     (\"bronc\", \"dysp\")]\n",
    ")"
   ]
  },
  {
   "cell_type": "code",
   "execution_count": 11,
   "metadata": {},
   "outputs": [
    {
     "data": {
      "text/html": [
       "<div>\n",
       "<style scoped>\n",
       "    .dataframe tbody tr th:only-of-type {\n",
       "        vertical-align: middle;\n",
       "    }\n",
       "\n",
       "    .dataframe tbody tr th {\n",
       "        vertical-align: top;\n",
       "    }\n",
       "\n",
       "    .dataframe thead th {\n",
       "        text-align: right;\n",
       "    }\n",
       "</style>\n",
       "<table border=\"1\" class=\"dataframe\">\n",
       "  <thead>\n",
       "    <tr style=\"text-align: right;\">\n",
       "      <th></th>\n",
       "      <th>asia</th>\n",
       "      <th>tub</th>\n",
       "      <th>smoke</th>\n",
       "      <th>lung</th>\n",
       "      <th>bronc</th>\n",
       "      <th>either</th>\n",
       "      <th>xray</th>\n",
       "      <th>dysp</th>\n",
       "    </tr>\n",
       "  </thead>\n",
       "  <tbody>\n",
       "    <tr>\n",
       "      <th>0</th>\n",
       "      <td>no</td>\n",
       "      <td>no</td>\n",
       "      <td>no</td>\n",
       "      <td>no</td>\n",
       "      <td>yes</td>\n",
       "      <td>no</td>\n",
       "      <td>no</td>\n",
       "      <td>no</td>\n",
       "    </tr>\n",
       "    <tr>\n",
       "      <th>1</th>\n",
       "      <td>no</td>\n",
       "      <td>no</td>\n",
       "      <td>no</td>\n",
       "      <td>yes</td>\n",
       "      <td>no</td>\n",
       "      <td>yes</td>\n",
       "      <td>yes</td>\n",
       "      <td>no</td>\n",
       "    </tr>\n",
       "    <tr>\n",
       "      <th>2</th>\n",
       "      <td>no</td>\n",
       "      <td>no</td>\n",
       "      <td>no</td>\n",
       "      <td>no</td>\n",
       "      <td>no</td>\n",
       "      <td>no</td>\n",
       "      <td>no</td>\n",
       "      <td>no</td>\n",
       "    </tr>\n",
       "    <tr>\n",
       "      <th>3</th>\n",
       "      <td>no</td>\n",
       "      <td>no</td>\n",
       "      <td>yes</td>\n",
       "      <td>no</td>\n",
       "      <td>yes</td>\n",
       "      <td>no</td>\n",
       "      <td>no</td>\n",
       "      <td>yes</td>\n",
       "    </tr>\n",
       "    <tr>\n",
       "      <th>4</th>\n",
       "      <td>no</td>\n",
       "      <td>no</td>\n",
       "      <td>yes</td>\n",
       "      <td>no</td>\n",
       "      <td>no</td>\n",
       "      <td>no</td>\n",
       "      <td>no</td>\n",
       "      <td>no</td>\n",
       "    </tr>\n",
       "  </tbody>\n",
       "</table>\n",
       "</div>"
      ],
      "text/plain": [
       "  asia tub smoke lung bronc either xray dysp\n",
       "0   no  no    no   no   yes     no   no   no\n",
       "1   no  no    no  yes    no    yes  yes   no\n",
       "2   no  no    no   no    no     no   no   no\n",
       "3   no  no   yes   no   yes     no   no  yes\n",
       "4   no  no   yes   no    no     no   no   no"
      ]
     },
     "execution_count": 11,
     "metadata": {},
     "output_type": "execute_result"
    }
   ],
   "source": [
    "# Read the Data\n",
    "df = pd.read_csv(\"Data/data_asia.csv\")\n",
    "df.drop('Unnamed: 0', axis=1, inplace=True)\n",
    "df.head()"
   ]
  },
  {
   "cell_type": "code",
   "execution_count": 12,
   "metadata": {},
   "outputs": [
    {
     "name": "stdout",
     "output_type": "stream",
     "text": [
      "asia\n",
      "+-----------+---------+\n",
      "| asia(no)  | 0.99057 |\n",
      "+-----------+---------+\n",
      "| asia(yes) | 0.00943 |\n",
      "+-----------+---------+\n",
      "tub\n",
      "+----------+----------------------+---------------------+\n",
      "| asia     | asia(no)             | asia(yes)           |\n",
      "+----------+----------------------+---------------------+\n",
      "| tub(no)  | 0.9895918511564049   | 0.9448568398727466  |\n",
      "+----------+----------------------+---------------------+\n",
      "| tub(yes) | 0.010408148843595103 | 0.05514316012725345 |\n",
      "+----------+----------------------+---------------------+\n",
      "either\n",
      "+-------------+----------+----------+-----------+-----------+\n",
      "| lung        | lung(no) | lung(no) | lung(yes) | lung(yes) |\n",
      "+-------------+----------+----------+-----------+-----------+\n",
      "| tub         | tub(no)  | tub(yes) | tub(no)   | tub(yes)  |\n",
      "+-------------+----------+----------+-----------+-----------+\n",
      "| either(no)  | 1.0      | 0.0      | 0.0       | 0.0       |\n",
      "+-------------+----------+----------+-----------+-----------+\n",
      "| either(yes) | 0.0      | 1.0      | 1.0       | 1.0       |\n",
      "+-------------+----------+----------+-----------+-----------+\n",
      "smoke\n",
      "+------------+---------+\n",
      "| smoke(no)  | 0.50054 |\n",
      "+------------+---------+\n",
      "| smoke(yes) | 0.49946 |\n",
      "+------------+---------+\n",
      "lung\n",
      "+-----------+----------------------+---------------------+\n",
      "| smoke     | smoke(no)            | smoke(yes)          |\n",
      "+-----------+----------------------+---------------------+\n",
      "| lung(no)  | 0.9905701842010628   | 0.8993512994033557  |\n",
      "+-----------+----------------------+---------------------+\n",
      "| lung(yes) | 0.009429815798937148 | 0.10064870059664438 |\n",
      "+-----------+----------------------+---------------------+\n",
      "bronc\n",
      "+------------+---------------------+---------------------+\n",
      "| smoke      | smoke(no)           | smoke(yes)          |\n",
      "+------------+---------------------+---------------------+\n",
      "| bronc(no)  | 0.7000039956846605  | 0.40153365634885674 |\n",
      "+------------+---------------------+---------------------+\n",
      "| bronc(yes) | 0.29999600431533946 | 0.5984663436511433  |\n",
      "+------------+---------------------+---------------------+\n",
      "xray\n",
      "+-----------+----------------------+---------------------+\n",
      "| either    | either(no)           | either(yes)         |\n",
      "+-----------+----------------------+---------------------+\n",
      "| xray(no)  | 0.9506402644500787   | 0.01962287291123716 |\n",
      "+-----------+----------------------+---------------------+\n",
      "| xray(yes) | 0.049359735549921374 | 0.9803771270887628  |\n",
      "+-----------+----------------------+---------------------+\n",
      "dysp\n",
      "+-----------+---------------------+-----+---------------------+\n",
      "| bronc     | bronc(no)           | ... | bronc(yes)          |\n",
      "+-----------+---------------------+-----+---------------------+\n",
      "| either    | either(no)          | ... | either(yes)         |\n",
      "+-----------+---------------------+-----+---------------------+\n",
      "| dysp(no)  | 0.8995302463809798  | ... | 0.09483960948396095 |\n",
      "+-----------+---------------------+-----+---------------------+\n",
      "| dysp(yes) | 0.10046975361902023 | ... | 0.905160390516039   |\n",
      "+-----------+---------------------+-----+---------------------+\n"
     ]
    }
   ],
   "source": [
    "# Fit the model to the data\n",
    "model.fit(\n",
    "    data=df,\n",
    "    estimator=MaximumLikelihoodEstimator\n",
    ")\n",
    "\n",
    "for i in model.nodes():\n",
    "    print(i)\n",
    "    print(model.get_cpds(i))"
   ]
  }
 ],
 "metadata": {
  "kernelspec": {
   "display_name": "Python 3",
   "language": "python",
   "name": "python3"
  },
  "language_info": {
   "codemirror_mode": {
    "name": "ipython",
    "version": 3
   },
   "file_extension": ".py",
   "mimetype": "text/x-python",
   "name": "python",
   "nbconvert_exporter": "python",
   "pygments_lexer": "ipython3",
   "version": "3.10.6"
  },
  "orig_nbformat": 4,
  "vscode": {
   "interpreter": {
    "hash": "dd14f85466f1c1274a7f813c7e51936489923580ae52659433b733773b1a6a00"
   }
  }
 },
 "nbformat": 4,
 "nbformat_minor": 2
}
